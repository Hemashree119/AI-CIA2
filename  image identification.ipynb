{
  "nbformat": 4,
  "nbformat_minor": 0,
  "metadata": {
    "colab": {
      "provenance": [],
      "authorship_tag": "ABX9TyNCG/cU9Nci9ZVX9ohHC7xd",
      "include_colab_link": true
    },
    "kernelspec": {
      "name": "python3",
      "display_name": "Python 3"
    },
    "language_info": {
      "name": "python"
    }
  },
  "cells": [
    {
      "cell_type": "markdown",
      "metadata": {
        "id": "view-in-github",
        "colab_type": "text"
      },
      "source": [
        "<a href=\"https://colab.research.google.com/github/Hemashree119/AI-CIA2/blob/main/%20image%20identification.ipynb\" target=\"_parent\"><img src=\"https://colab.research.google.com/assets/colab-badge.svg\" alt=\"Open In Colab\"/></a>"
      ]
    },
    {
      "cell_type": "code",
      "execution_count": 7,
      "metadata": {
        "id": "sG3Gm05e-Vkw"
      },
      "outputs": [],
      "source": [
        "from tensorflow.keras.preprocessing import image\n",
        "from tensorflow.keras.applications.vgg16 import preprocess_input\n",
        "import numpy as np\n",
        "\n",
        "# Load the image\n",
        "img_path = '/content/cattyUntitled.jpeg'\n",
        "img = image.load_img(img_path, target_size=(224, 224))  # Resize to match model input size\n",
        "\n",
        "# Convert image to numpy array\n",
        "img_array = image.img_to_array(img)\n",
        "\n",
        "# Add batch dimension (model expects batches of images)\n",
        "img_array = np.expand_dims(img_array, axis=0)\n",
        "\n",
        "# Preprocess the image for the model\n",
        "img_array = preprocess_input(img_array)\n"
      ]
    },
    {
      "cell_type": "code",
      "source": [
        "from tensorflow.keras.applications import VGG16\n",
        "\n",
        "# Load pre-trained VGG16 model\n",
        "model = VGG16(weights='imagenet')\n"
      ],
      "metadata": {
        "id": "Cb6zcvghA7-h"
      },
      "execution_count": 8,
      "outputs": []
    },
    {
      "cell_type": "code",
      "source": [
        "# Perform prediction\n",
        "predictions = model.predict(img_array)\n",
        "\n",
        "# Decode predictions to class names\n",
        "from tensorflow.keras.applications.vgg16 import decode_predictions\n",
        "decoded_predictions = decode_predictions(predictions, top=10)[0]\n"
      ],
      "metadata": {
        "colab": {
          "base_uri": "https://localhost:8080/"
        },
        "id": "AjCNMc1sBeJf",
        "outputId": "a38154bc-86ae-42fe-d7f7-6331f191f266"
      },
      "execution_count": 9,
      "outputs": [
        {
          "output_type": "stream",
          "name": "stdout",
          "text": [
            "\u001b[1m1/1\u001b[0m \u001b[32m━━━━━━━━━━━━━━━━━━━━\u001b[0m\u001b[37m\u001b[0m \u001b[1m1s\u001b[0m 918ms/step\n"
          ]
        }
      ]
    },
    {
      "cell_type": "code",
      "source": [
        "for i, (imagenet_id, label, score) in enumerate(decoded_predictions):\n",
        "    print(f\"{i + 1}: {label} ({score:.2f})\")\n"
      ],
      "metadata": {
        "colab": {
          "base_uri": "https://localhost:8080/"
        },
        "id": "W6Wku3WSBotf",
        "outputId": "e95e17ec-26e9-40d3-89a3-86771656bf28"
      },
      "execution_count": 10,
      "outputs": [
        {
          "output_type": "stream",
          "name": "stdout",
          "text": [
            "1: Egyptian_cat (0.58)\n",
            "2: tabby (0.26)\n",
            "3: tiger_cat (0.07)\n",
            "4: lynx (0.01)\n",
            "5: carton (0.01)\n",
            "6: feather_boa (0.01)\n",
            "7: bucket (0.00)\n",
            "8: remote_control (0.00)\n",
            "9: mouse (0.00)\n",
            "10: computer_keyboard (0.00)\n"
          ]
        }
      ]
    }
  ]
}